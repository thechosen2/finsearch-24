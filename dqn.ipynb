{
 "cells": [
  {
   "cell_type": "code",
   "execution_count": 2,
   "metadata": {},
   "outputs": [
    {
     "name": "stdout",
     "output_type": "stream",
     "text": [
      "Saved video.\n",
      "Moviepy - Building video ./video/videotest.mp4.\n",
      "Moviepy - Writing video ./video/videotest.mp4\n",
      "\n"
     ]
    },
    {
     "name": "stderr",
     "output_type": "stream",
     "text": [
      "                                                                \r"
     ]
    },
    {
     "name": "stdout",
     "output_type": "stream",
     "text": [
      "Moviepy - Done !\n",
      "Moviepy - video ready ./video/videotest.mp4\n"
     ]
    }
   ],
   "source": [
    "import gymnasium as gym\n",
    "from gymnasium.wrappers.monitoring.video_recorder import VideoRecorder\n",
    "\n",
    "path_of_video_with_name = './video/videotest.mp4'\n",
    "env = gym.make('CartPole-v1', render_mode='rgb_array') # for making environment\n",
    "state = env.reset()\n",
    "video_recorder = None\n",
    "video_recorder = VideoRecorder(env, path_of_video_with_name, enabled=True)\n",
    "\n",
    "for _ in range(1000):\n",
    "   env.render()\n",
    "   video_recorder.capture_frame()\n",
    "   env.step(env.action_space.sample()) # random action\n",
    "\n",
    "print(\"Saved video.\")\n",
    "\n",
    "video_recorder.close()\n",
    "video_recorder.enabled = False\n",
    "env.close()"
   ]
  }
 ],
 "metadata": {
  "kernelspec": {
   "display_name": ".venv",
   "language": "python",
   "name": "python3"
  },
  "language_info": {
   "codemirror_mode": {
    "name": "ipython",
    "version": 3
   },
   "file_extension": ".py",
   "mimetype": "text/x-python",
   "name": "python",
   "nbconvert_exporter": "python",
   "pygments_lexer": "ipython3",
   "version": "3.11.9"
  }
 },
 "nbformat": 4,
 "nbformat_minor": 2
}
