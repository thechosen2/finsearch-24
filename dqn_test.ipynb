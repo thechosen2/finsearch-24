{
 "cells": [
  {
   "cell_type": "code",
   "execution_count": 3,
   "metadata": {},
   "outputs": [
    {
     "name": "stdout",
     "output_type": "stream",
     "text": [
      "Test Episode: 1, Total Reward: 500.0\n",
      "Test Episode: 2, Total Reward: 500.0\n",
      "Test Episode: 3, Total Reward: 500.0\n",
      "Test Episode: 4, Total Reward: 500.0\n",
      "Test Episode: 5, Total Reward: 500.0\n",
      "Testing completed. Saved video.\n",
      "Moviepy - Building video ./video/dqn_cartpole_test.mp4.\n",
      "Moviepy - Writing video ./video/dqn_cartpole_test.mp4\n",
      "\n"
     ]
    },
    {
     "name": "stderr",
     "output_type": "stream",
     "text": [
      "                                                                  \r"
     ]
    },
    {
     "name": "stdout",
     "output_type": "stream",
     "text": [
      "Moviepy - Done !\n",
      "Moviepy - video ready ./video/dqn_cartpole_test.mp4\n"
     ]
    }
   ],
   "source": [
    "import gymnasium as gym\n",
    "from gymnasium.wrappers.monitoring.video_recorder import VideoRecorder\n",
    "import torch\n",
    "import torch.nn as nn\n",
    "import numpy as np\n",
    "\n",
    "# Define the DQN model (same as in the training script)\n",
    "class DQN(nn.Module):\n",
    "    def __init__(self, state_size, action_size):\n",
    "        super(DQN, self).__init__()\n",
    "        self.fc1 = nn.Linear(state_size, 64)\n",
    "        self.fc2 = nn.Linear(64, 64)\n",
    "        self.fc3 = nn.Linear(64, action_size)\n",
    "\n",
    "    def forward(self, x):\n",
    "        x = torch.relu(self.fc1(x))\n",
    "        x = torch.relu(self.fc2(x))\n",
    "        return self.fc3(x)\n",
    "\n",
    "# Set up the environment\n",
    "env = gym.make('CartPole-v1', render_mode='rgb_array')\n",
    "state_size = env.observation_space.shape[0]\n",
    "action_size = env.action_space.n\n",
    "\n",
    "# Set up the device\n",
    "device = torch.device(\"cuda\" if torch.cuda.is_available() else \"cpu\")\n",
    "\n",
    "# Load the trained model\n",
    "model = DQN(state_size, action_size).to(device)\n",
    "model.load_state_dict(torch.load('./folder/dqn_model_episode_240.pth'))  # Adjust the filename as needed\n",
    "model.eval()\n",
    "\n",
    "# Set up video recording\n",
    "video_recorder = VideoRecorder(env, './video/dqn_cartpole_test.mp4', enabled=True)\n",
    "\n",
    "# Run the test episodes\n",
    "num_test_episodes = 5\n",
    "max_steps = 500\n",
    "\n",
    "for episode in range(num_test_episodes):\n",
    "    state, _ = env.reset()\n",
    "    total_reward = 0\n",
    "\n",
    "    for step in range(max_steps):\n",
    "        env.render()\n",
    "        video_recorder.capture_frame()\n",
    "\n",
    "        state_tensor = torch.FloatTensor(state).unsqueeze(0).to(device)\n",
    "        with torch.no_grad():\n",
    "            action = model(state_tensor).argmax().item()\n",
    "\n",
    "        next_state, reward, done, _, _ = env.step(action)\n",
    "        state = next_state\n",
    "        total_reward += reward\n",
    "\n",
    "        if done:\n",
    "            break\n",
    "\n",
    "    print(f\"Test Episode: {episode + 1}, Total Reward: {total_reward}\")\n",
    "\n",
    "print(\"Testing completed. Saved video.\")\n",
    "\n",
    "video_recorder.close()\n",
    "video_recorder.enabled = False\n",
    "env.close()"
   ]
  }
 ],
 "metadata": {
  "kernelspec": {
   "display_name": ".virtualenv",
   "language": "python",
   "name": "python3"
  },
  "language_info": {
   "codemirror_mode": {
    "name": "ipython",
    "version": 3
   },
   "file_extension": ".py",
   "mimetype": "text/x-python",
   "name": "python",
   "nbconvert_exporter": "python",
   "pygments_lexer": "ipython3",
   "version": "3.11.9"
  }
 },
 "nbformat": 4,
 "nbformat_minor": 2
}
